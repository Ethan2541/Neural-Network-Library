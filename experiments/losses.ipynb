{
 "cells": [
  {
   "cell_type": "markdown",
   "metadata": {},
   "source": [
    "# Losses\n",
    "\n",
    "This notebook aims to test the few losses that were not explicitly tested in other notebooks, by comparing the values they return with those we calculated."
   ]
  },
  {
   "cell_type": "code",
   "execution_count": 10,
   "metadata": {},
   "outputs": [],
   "source": [
    "import os\n",
    "import sys\n",
    "\n",
    "sys.path.append(os.path.join(os.getcwd(), \"..\"))"
   ]
  },
  {
   "cell_type": "code",
   "execution_count": 11,
   "metadata": {},
   "outputs": [],
   "source": [
    "from pyldl.losses import BCELoss, CrossEntropyLoss"
   ]
  },
  {
   "cell_type": "code",
   "execution_count": 12,
   "metadata": {},
   "outputs": [],
   "source": [
    "import numpy as np"
   ]
  },
  {
   "cell_type": "markdown",
   "metadata": {},
   "source": [
    "# CELoss"
   ]
  },
  {
   "cell_type": "code",
   "execution_count": 13,
   "metadata": {},
   "outputs": [
    {
     "name": "stdout",
     "output_type": "stream",
     "text": [
      "CELoss forward output: -0.16510414229480497\n",
      "CELoss backward: [[-0.46117747  0.24210857  0.21906889]\n",
      " [ 0.28140804 -0.53603657  0.25462853]\n",
      " [ 0.21906889  0.24210857 -0.46117747]]\n"
     ]
    }
   ],
   "source": [
    "y = np.array([[1, 0, 0], [0, 1, 0], [0, 0, 1]])\n",
    "yhat = np.array([[0.9, 0.1, 0], [0.2, 0.7, 0.1], [0, 0.1, 0.9]])\n",
    "\n",
    "\n",
    "CELoss_activation = CrossEntropyLoss()\n",
    "ce_output = CELoss_activation.forward(y, yhat)\n",
    "ce_delta = CELoss_activation.backward(y, yhat)\n",
    "\n",
    "print(\"CELoss forward output:\", ce_output)\n",
    "print(\"CELoss backward:\", ce_delta)"
   ]
  },
  {
   "cell_type": "markdown",
   "metadata": {},
   "source": [
    "# BCELoss"
   ]
  },
  {
   "cell_type": "code",
   "execution_count": 14,
   "metadata": {},
   "outputs": [
    {
     "name": "stdout",
     "output_type": "stream",
     "text": [
      "BCELoss forward output: 0.14462152754328741\n",
      "BCELoss backward: [-1.11111111  1.11111111 -1.25      ]\n"
     ]
    }
   ],
   "source": [
    "# Sample data\n",
    "y = np.array([1, 0, 1])\n",
    "yhat = np.array([0.9, 0.1, 0.8])\n",
    "\n",
    "# Initialize BCELoss\n",
    "BCELoss_activation = BCELoss()\n",
    "\n",
    "# Forward pass\n",
    "bce_output = BCELoss_activation.forward(y, yhat)\n",
    "print(\"BCELoss forward output:\", bce_output)\n",
    "\n",
    "# Backward pass\n",
    "bce_delta = BCELoss_activation.backward(y, yhat)\n",
    "print(\"BCELoss backward:\", bce_delta)"
   ]
  }
 ],
 "metadata": {
  "kernelspec": {
   "display_name": "base",
   "language": "python",
   "name": "python3"
  },
  "language_info": {
   "codemirror_mode": {
    "name": "ipython",
    "version": 3
   },
   "file_extension": ".py",
   "mimetype": "text/x-python",
   "name": "python",
   "nbconvert_exporter": "python",
   "pygments_lexer": "ipython3",
   "version": "3.11.5"
  }
 },
 "nbformat": 4,
 "nbformat_minor": 2
}
