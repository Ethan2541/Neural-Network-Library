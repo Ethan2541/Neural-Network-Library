{
 "cells": [
  {
   "cell_type": "markdown",
   "metadata": {},
   "source": [
    "# Clustering in Latent Space for Multiclass Data"
   ]
  },
  {
   "cell_type": "code",
   "execution_count": 4,
   "metadata": {},
   "outputs": [],
   "source": [
    "import os\n",
    "import sys\n",
    "\n",
    "sys.path.append(os.path.join(os.getcwd(), \"..\"))"
   ]
  },
  {
   "cell_type": "code",
   "execution_count": 5,
   "metadata": {},
   "outputs": [],
   "source": [
    "from pyldl.activations import Sigmoid, Softmax\n",
    "from pyldl.layers import AutoEncoder, Sequential\n",
    "from pyldl.losses import BCELoss, MSELoss\n",
    "from pyldl.modules import Linear\n",
    "from pyldl.optimizers import SGD\n",
    "from pyldl.utils import encode_one_hot, kullback_leibler_divergence"
   ]
  },
  {
   "cell_type": "code",
   "execution_count": 6,
   "metadata": {},
   "outputs": [],
   "source": [
    "from sklearn.cluster import KMeans\n",
    "from sklearn.datasets import load_digits\n",
    "from sklearn.model_selection import train_test_split\n",
    "\n",
    "import matplotlib.pyplot as plt\n",
    "import numpy as np"
   ]
  },
  {
   "cell_type": "markdown",
   "metadata": {},
   "source": [
    "## Loading the Dataset"
   ]
  },
  {
   "cell_type": "code",
   "execution_count": 7,
   "metadata": {},
   "outputs": [],
   "source": [
    "np.random.seed(0)"
   ]
  },
  {
   "cell_type": "code",
   "execution_count": 8,
   "metadata": {},
   "outputs": [],
   "source": [
    "digits = load_digits()\n",
    "\n",
    "X = digits.data\n",
    "y = digits.target\n",
    "\n",
    "X_train, X_test, y_train, y_test = train_test_split(X, y, test_size=0.2)\n",
    "y_train_one_hot = encode_one_hot(y_train)\n",
    "y_test_one_hot = encode_one_hot(y_test)"
   ]
  },
  {
   "cell_type": "markdown",
   "metadata": {},
   "source": [
    "## Network Optimisation"
   ]
  },
  {
   "cell_type": "code",
   "execution_count": null,
   "metadata": {},
   "outputs": [],
   "source": [
    "params = {\n",
    "    \"activation_functions\": [Sigmoid(), Softmax()],\n",
    "    \"batch_size\": [32, 64, 128],\n",
    "    \"gradient_step\": [0.01, 0.001, 0.0001],\n",
    "    \"loss\": [BCELoss(), MSELoss()],\n",
    "    \"n_epochs\": [500, 1000, 2000],\n",
    "    \"n_hidden_layers\": [2, 3, 4],\n",
    "    \"n_neurons\": [32, 64, 128],\n",
    "}"
   ]
  },
  {
   "cell_type": "code",
   "execution_count": null,
   "metadata": {},
   "outputs": [],
   "source": [
    "def clustering_score(autoencoder, X, n_classes=10):\n",
    "    latent_representation = autoencoder._encoder(X)\n",
    "    kmeans = KMeans(n_clusters=n_classes, random_state=0)"
   ]
  },
  {
   "cell_type": "code",
   "execution_count": null,
   "metadata": {},
   "outputs": [],
   "source": [
    "def grid_search(params):\n",
    "    for loss in params[\"loss\"]:\n",
    "        for gradient_step in params[\"gradient_step\"]:\n",
    "            for n_epochs in params[\"n_epochs\"]:\n",
    "                for n_hidden_layers in params[\"n_hidden_layers\"]:\n",
    "                    for n_neurons in params[\"n_neurons\"]:\n",
    "                        pass"
   ]
  },
  {
   "cell_type": "markdown",
   "metadata": {},
   "source": [
    "## Clustering"
   ]
  },
  {
   "cell_type": "code",
   "execution_count": null,
   "metadata": {},
   "outputs": [],
   "source": []
  }
 ],
 "metadata": {
  "kernelspec": {
   "display_name": "Python 3",
   "language": "python",
   "name": "python3"
  },
  "language_info": {
   "codemirror_mode": {
    "name": "ipython",
    "version": 3
   },
   "file_extension": ".py",
   "mimetype": "text/x-python",
   "name": "python",
   "nbconvert_exporter": "python",
   "pygments_lexer": "ipython3",
   "version": "3.11.9"
  }
 },
 "nbformat": 4,
 "nbformat_minor": 2
}
