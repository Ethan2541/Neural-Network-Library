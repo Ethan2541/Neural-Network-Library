{
 "cells": [
  {
   "cell_type": "markdown",
   "metadata": {},
   "source": [
    "# Multiclass Classification with a neural network"
   ]
  },
  {
   "cell_type": "code",
   "execution_count": 1,
   "metadata": {},
   "outputs": [],
   "source": [
    "import os\n",
    "import sys\n",
    "\n",
    "sys.path.append(os.path.join(os.getcwd(), \"..\"))"
   ]
  },
  {
   "cell_type": "code",
   "execution_count": 2,
   "metadata": {},
   "outputs": [],
   "source": [
    "from pyldl.activations import Sigmoid, Softmax\n",
    "from pyldl.layers import Sequential\n",
    "from pyldl.losses import CrossEntropyLoss\n",
    "from pyldl.modules import Linear\n",
    "from pyldl.optimizers import SGD\n",
    "from pyldl.utils import encode_one_hot"
   ]
  },
  {
   "cell_type": "code",
   "execution_count": 3,
   "metadata": {},
   "outputs": [
    {
     "name": "stdout",
     "output_type": "stream",
     "text": [
      "[[0.51082562]\n",
      " [1.2039728 ]\n",
      " [0.35667494]]\n"
     ]
    }
   ],
   "source": [
    "import numpy as np\n",
    "\n",
    "y_one_hot = np.array([[0, 1, 0], [1, 0, 0], [0, 0, 1]])\n",
    "yhat = np.array([[0.1, 0.6, 0.3], [0.3, 0.2, 0.5], [0.2, 0.1, 0.7]])\n",
    "print(CrossEntropyLoss().forward(y_one_hot, yhat))"
   ]
  },
  {
   "cell_type": "markdown",
   "metadata": {},
   "source": [
    "## Dataset and Network"
   ]
  },
  {
   "cell_type": "code",
   "execution_count": 4,
   "metadata": {},
   "outputs": [],
   "source": [
    "from sklearn.datasets import load_digits\n",
    "\n",
    "digits = load_digits()\n",
    "\n",
    "X = digits.data\n",
    "y = digits.target\n",
    "y_one_hot = encode_one_hot(y)"
   ]
  },
  {
   "cell_type": "code",
   "execution_count": 5,
   "metadata": {},
   "outputs": [],
   "source": [
    "network = Sequential(Linear(X.shape[1], 128), Sigmoid(), Linear(128, 64), Sigmoid(), Linear(64, 10), Softmax())\n",
    "loss = CrossEntropyLoss()"
   ]
  },
  {
   "cell_type": "markdown",
   "metadata": {},
   "source": [
    "## Model performances"
   ]
  },
  {
   "cell_type": "code",
   "execution_count": 6,
   "metadata": {},
   "outputs": [],
   "source": [
    "SGD(network, loss, X, y_one_hot, batch_size=64, gradient_step=1e-3, n_iter=1000)"
   ]
  },
  {
   "cell_type": "code",
   "execution_count": 7,
   "metadata": {},
   "outputs": [
    {
     "name": "stdout",
     "output_type": "stream",
     "text": [
      "[[0.10053631 0.0998624  0.10266182 ... 0.09901552 0.09807798 0.09987327]\n",
      " [0.10053631 0.0998624  0.10266182 ... 0.09901552 0.09807798 0.09987327]\n",
      " [0.10053631 0.0998624  0.10266182 ... 0.09901552 0.09807798 0.09987327]\n",
      " ...\n",
      " [0.10053631 0.0998624  0.10266182 ... 0.09901552 0.09807798 0.09987327]\n",
      " [0.10053631 0.0998624  0.10266182 ... 0.09901552 0.09807798 0.09987327]\n",
      " [0.10053631 0.0998624  0.10266182 ... 0.09901552 0.09807798 0.09987327]]\n",
      "Accuracy: 0.09849749582637729\n"
     ]
    }
   ],
   "source": [
    "def predict(X):\n",
    "    print(network(X))\n",
    "    return network(X).argmax(axis=1)\n",
    "\n",
    "def accuracy(y, yhat):\n",
    "    return (y == yhat).mean()\n",
    "\n",
    "yhat = predict(X)\n",
    "print(f\"Accuracy: {accuracy(y, yhat)}\")"
   ]
  }
 ],
 "metadata": {
  "kernelspec": {
   "display_name": "Python 3",
   "language": "python",
   "name": "python3"
  },
  "language_info": {
   "codemirror_mode": {
    "name": "ipython",
    "version": 3
   },
   "file_extension": ".py",
   "mimetype": "text/x-python",
   "name": "python",
   "nbconvert_exporter": "python",
   "pygments_lexer": "ipython3",
   "version": "3.11.8"
  }
 },
 "nbformat": 4,
 "nbformat_minor": 2
}
