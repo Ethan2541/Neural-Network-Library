{
 "cells": [
  {
   "cell_type": "markdown",
   "metadata": {},
   "source": [
    "# Regression with a basic neural network\n",
    "\n",
    "We will setup a one layer linear network for regression."
   ]
  },
  {
   "cell_type": "code",
   "execution_count": 11,
   "metadata": {},
   "outputs": [],
   "source": [
    "import os\n",
    "import sys\n",
    "\n",
    "sys.path.append(os.path.join(os.getcwd(), \"..\"))"
   ]
  },
  {
   "cell_type": "code",
   "execution_count": 12,
   "metadata": {},
   "outputs": [],
   "source": [
    "from pyldl.losses import MSELoss\n",
    "from pyldl.modules import Linear"
   ]
  },
  {
   "cell_type": "code",
   "execution_count": 13,
   "metadata": {},
   "outputs": [],
   "source": [
    "from sklearn.datasets import make_regression\n",
    "from sklearn.model_selection import train_test_split\n",
    "from tqdm import tqdm\n",
    "\n",
    "import matplotlib.pyplot as plt\n",
    "import numpy as np"
   ]
  },
  {
   "cell_type": "markdown",
   "metadata": {},
   "source": [
    "## Linear and MSELoss"
   ]
  },
  {
   "cell_type": "code",
   "execution_count": 14,
   "metadata": {},
   "outputs": [
    {
     "name": "stdout",
     "output_type": "stream",
     "text": [
      "Parameters:\n",
      "[[0.1 0.2]\n",
      " [0.3 0.4]\n",
      " [0.5 0.6]]\n",
      "\n",
      "Bias:\n",
      "[ 0.95008842 -0.15135721]\n",
      "\n",
      "Forward pass output:\n",
      "[[3.15008842 2.64864279]\n",
      " [5.85008842 6.24864279]]\n",
      "\n",
      "Gradient after backward_update_gradient:\n",
      "[[5. 5.]\n",
      " [7. 7.]\n",
      " [9. 9.]]\n",
      "\n",
      "Gradient w.r.t. input (backward_delta):\n",
      "[[0.3 0.7 1.1]\n",
      " [0.3 0.7 1.1]]\n"
     ]
    }
   ],
   "source": [
    "linear = Linear(in_features=3, out_features=2)\n",
    "\n",
    "parameters = np.array([[0.1, 0.2], [0.3, 0.4], [0.5, 0.6]])\n",
    "linear._parameters = parameters\n",
    "\n",
    "bias = np.array([0.95008842, -0.15135721])\n",
    "linear._bias = bias\n",
    "\n",
    "X = np.array([[1, 2, 3], [4, 5, 6]])\n",
    "\n",
    "print(\"Parameters:\")\n",
    "print(linear._parameters)\n",
    "print(\"\\nBias:\")\n",
    "print(linear._bias)\n",
    "\n",
    "output = linear.forward(X)\n",
    "print(\"\\nForward pass output:\")\n",
    "print(output)\n",
    "\n",
    "delta = np.array([[1, 1], [1, 1]])\n",
    "linear.zero_grad()\n",
    "linear.backward_update_gradient(X, delta)\n",
    "print(\"\\nGradient after backward_update_gradient:\")\n",
    "print(linear._gradient)\n",
    "\n",
    "d_out = linear.backward_delta(X, delta)\n",
    "print(\"\\nGradient w.r.t. input (backward_delta):\")\n",
    "print(d_out)"
   ]
  },
  {
   "cell_type": "code",
   "execution_count": 15,
   "metadata": {},
   "outputs": [
    {
     "name": "stdout",
     "output_type": "stream",
     "text": [
      "MSELoss forward output: 0.4200000000000001\n",
      "MSELoss backward gradient: [[-0.4  0.2  0.2]\n",
      " [ 0.4 -1.   0.6]\n",
      " [-0.2 -1.8 -0. ]]\n"
     ]
    }
   ],
   "source": [
    "y = np.array([[1, 0, 0], [0, 1, 0], [1, 1, 0]])\n",
    "yhat = np.array([[0.8, 0.1, 0.1], [0.2, 0.5, 0.3], [0.9, 0.1, 0]])\n",
    "\n",
    "mse_loss = MSELoss()\n",
    "\n",
    "mse_loss_output = mse_loss.forward(y, yhat)\n",
    "print(\"MSELoss forward output:\", mse_loss_output)\n",
    "\n",
    "mse_loss_gradient = mse_loss.backward(y, yhat)\n",
    "print(\"MSELoss backward gradient:\", mse_loss_gradient)"
   ]
  },
  {
   "cell_type": "markdown",
   "metadata": {},
   "source": [
    "## Dataset and Network"
   ]
  },
  {
   "cell_type": "code",
   "execution_count": 16,
   "metadata": {},
   "outputs": [],
   "source": [
    "np.random.seed(0)"
   ]
  },
  {
   "cell_type": "code",
   "execution_count": 17,
   "metadata": {},
   "outputs": [],
   "source": [
    "X, y = make_regression(n_samples=1000, n_features=1, noise=1)\n",
    "y = y.reshape(-1, 1)\n",
    "\n",
    "X_train, X_test, y_train, y_test = train_test_split(X, y, test_size=0.2)"
   ]
  },
  {
   "cell_type": "code",
   "execution_count": 18,
   "metadata": {},
   "outputs": [],
   "source": [
    "in_features = X_train.shape[1]\n",
    "out_features = 1\n",
    "\n",
    "network = Linear(in_features, out_features)\n",
    "loss = MSELoss()"
   ]
  },
  {
   "cell_type": "markdown",
   "metadata": {},
   "source": [
    "## Gradient Descent"
   ]
  },
  {
   "cell_type": "code",
   "execution_count": 19,
   "metadata": {},
   "outputs": [],
   "source": [
    "def gradient_descent(X, y, n_iter=500, gradient_step=1e-4):\n",
    "    losses = []\n",
    "    for _ in tqdm(range(n_iter)):\n",
    "        yhat = network.forward(X)\n",
    "        losses.append(loss.forward(y, yhat).mean())\n",
    "        delta = loss.backward(y, yhat)\n",
    "        network.backward_update_gradient(X, delta)\n",
    "        network.update_parameters(gradient_step)\n",
    "        network.zero_grad()\n",
    "    return losses"
   ]
  },
  {
   "cell_type": "code",
   "execution_count": 20,
   "metadata": {},
   "outputs": [
    {
     "name": "stderr",
     "output_type": "stream",
     "text": [
      "100%|██████████| 500/500 [00:00<00:00, 34003.83it/s]\n"
     ]
    },
    {
     "data": {
      "image/png": "[encoded data removed]",
      "text/plain": [
       "<Figure size 640x480 with 1 Axes>"
      ]
     },
     "metadata": {},
     "output_type": "display_data"
    }
   ],
   "source": [
    "losses = gradient_descent(X_train, y_train)\n",
    "plt.plot(losses)\n",
    "plt.xlabel(\"Iteration\")\n",
    "plt.ylabel(\"Loss\")\n",
    "plt.show()"
   ]
  },
  {
   "cell_type": "code",
   "execution_count": 21,
   "metadata": {},
   "outputs": [
    {
     "data": {
      "image/png": "[encoded data removed]",
      "text/plain": [
       "<Figure size 640x480 with 1 Axes>"
      ]
     },
     "metadata": {},
     "output_type": "display_data"
    }
   ],
   "source": [
    "yhat = network.forward(X_test)\n",
    "plt.scatter(X_test, y_test)\n",
    "plt.plot(X_test, yhat, color=\"red\")\n",
    "plt.show()"
   ]
  }
 ],
 "metadata": {
  "kernelspec": {
   "display_name": "Python 3",
   "language": "python",
   "name": "python3"
  },
  "language_info": {
   "codemirror_mode": {
    "name": "ipython",
    "version": 3
   },
   "file_extension": ".py",
   "mimetype": "text/x-python",
   "name": "python",
   "nbconvert_exporter": "python",
   "pygments_lexer": "ipython3",
   "version": "3.11.9"
  }
 },
 "nbformat": 4,
 "nbformat_minor": 2
}
