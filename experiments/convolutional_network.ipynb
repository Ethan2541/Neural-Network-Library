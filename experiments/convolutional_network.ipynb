{
 "cells": [
  {
   "cell_type": "markdown",
   "metadata": {},
   "source": [
    "# Convolutional Network"
   ]
  },
  {
   "cell_type": "code",
   "execution_count": 2,
   "metadata": {},
   "outputs": [],
   "source": [
    "import os\n",
    "import sys\n",
    "\n",
    "sys.path.append(os.path.join(os.getcwd(), \"..\"))"
   ]
  },
  {
   "cell_type": "code",
   "execution_count": 3,
   "metadata": {},
   "outputs": [],
   "source": [
    "from pyldl.activations import ReLU\n",
    "from pyldl.encapsulations import Sequential\n",
    "from pyldl.losses import CrossEntropyLoss\n",
    "from pyldl.modules import Conv1D, Flatten, Linear, MaxPool1D\n",
    "from pyldl.optimizers import SGD\n",
    "from pyldl.utils import load_usps, encode_one_hot"
   ]
  },
  {
   "cell_type": "code",
   "execution_count": 4,
   "metadata": {},
   "outputs": [],
   "source": [
    "from sklearn.model_selection import train_test_split\n",
    "\n",
    "import matplotlib.pyplot as plt\n",
    "import numpy as np"
   ]
  },
  {
   "cell_type": "markdown",
   "metadata": {},
   "source": [
    "## Convolutional Modules"
   ]
  },
  {
   "cell_type": "code",
   "execution_count": 4,
   "metadata": {},
   "outputs": [
    {
     "name": "stdout",
     "output_type": "stream",
     "text": [
      "Convolution:  [[[ -1.22070879  -0.54523457]\n",
      "  [ -3.8009622    0.92987043]]\n",
      "\n",
      " [[ -7.67134232   3.14252792]\n",
      "  [-10.25159573   4.61763291]]\n",
      "\n",
      " [[-14.12197585   6.8302904 ]\n",
      "  [-16.70222926   8.3053954 ]]\n",
      "\n",
      " [[-20.57260938  10.51805289]\n",
      "  [-23.15286279  11.99315788]]]\n",
      "Output shape:  (4, 2, 2)\n",
      "\n",
      "Delta backward pass:  [[[ 0 -1  0]\n",
      "  [ 0  0 -4]\n",
      "  [ 0 -1  3]\n",
      "  [ 0  0 -4]\n",
      "  [ 0  0  3]]\n",
      "\n",
      " [[ 0 -1  0]\n",
      "  [ 0  0 -4]\n",
      "  [ 0 -1  3]\n",
      "  [ 0  0 -4]\n",
      "  [ 0  0  3]]\n",
      "\n",
      " [[ 0 -1  0]\n",
      "  [ 0  0 -4]\n",
      "  [ 0 -1  3]\n",
      "  [ 0  0 -4]\n",
      "  [ 0  0  3]]\n",
      "\n",
      " [[ 0 -1  0]\n",
      "  [ 0  0 -4]\n",
      "  [ 0 -1  3]\n",
      "  [ 0  0 -4]\n",
      "  [ 0  0  3]]]\n",
      "Delta original shape:  (4, 2, 2)\n",
      "Output delta shape:  (4, 5, 3)\n"
     ]
    }
   ],
   "source": [
    "X = np.array([\n",
    "    [[1, 1, 1], [2, 2, 2], [3, 3, 3], [4, 4, 4], [5, 5, 5]],\n",
    "    [[6, 6, 6], [7, 7, 7], [8, 8, 8], [9, 9, 9], [10, 10, 10]],\n",
    "    [[11, 11, 11], [12, 12, 12], [13, 13, 13], [14, 14, 14], [15, 15, 15]],\n",
    "    [[16, 16, 16], [17, 17, 17], [18, 18, 18], [19, 19, 19], [20, 20, 20]],\n",
    "])\n",
    "\n",
    "conv_module = Conv1D(3, 3, 2, 2)\n",
    "\n",
    "output = conv_module.forward(X)\n",
    "print(\"Convolution: \", output)\n",
    "print(\"Output shape: \", output.shape)\n",
    "\n",
    "delta = 5*np.ones_like(output)\n",
    "backward_delta_output = conv_module.backward_delta(X, delta)\n",
    "print(\"\\nDelta backward pass: \", backward_delta_output)\n",
    "print(\"Delta original shape: \", delta.shape)\n",
    "print(\"Output delta shape: \", backward_delta_output.shape)"
   ]
  },
  {
   "cell_type": "code",
   "execution_count": 5,
   "metadata": {},
   "outputs": [
    {
     "name": "stdout",
     "output_type": "stream",
     "text": [
      "Flattened input:  [[ 1  2  3  4  5  6  7  8  9 10 11 12]\n",
      " [ 1  2  3  4  5  6  7  8  9 10 11 12]\n",
      " [ 1  2  3  4  5  6  7  8  9 10 11 12]]\n",
      "Output shape:  (3, 12)\n",
      "\n",
      "Delta backward pass:  [[[[1 1]\n",
      "   [1 1]]\n",
      "\n",
      "  [[1 1]\n",
      "   [1 1]]\n",
      "\n",
      "  [[1 1]\n",
      "   [1 1]]]\n",
      "\n",
      "\n",
      " [[[1 1]\n",
      "   [1 1]]\n",
      "\n",
      "  [[1 1]\n",
      "   [1 1]]\n",
      "\n",
      "  [[1 1]\n",
      "   [1 1]]]\n",
      "\n",
      "\n",
      " [[[1 1]\n",
      "   [1 1]]\n",
      "\n",
      "  [[1 1]\n",
      "   [1 1]]\n",
      "\n",
      "  [[1 1]\n",
      "   [1 1]]]]\n",
      "Delta original shape:  (3, 3, 2, 2)\n",
      "Output delta shape:  (3, 3, 2, 2)\n"
     ]
    }
   ],
   "source": [
    "X = np.array([\n",
    "    [\n",
    "        [[1, 2], [3, 4]],\n",
    "        [[5, 6], [7, 8]],\n",
    "        [[9, 10], [11, 12]],\n",
    "    ],\n",
    "    [\n",
    "        [[1, 2], [3, 4]],\n",
    "        [[5, 6], [7, 8]],\n",
    "        [[9, 10], [11, 12]],\n",
    "    ],\n",
    "    [\n",
    "        [[1, 2], [3, 4]],\n",
    "        [[5, 6], [7, 8]],\n",
    "        [[9, 10], [11, 12]],\n",
    "    ]\n",
    "])\n",
    "\n",
    "delta = np.ones_like(X)\n",
    "\n",
    "flatten_module = Flatten()\n",
    "output = flatten_module.forward(X)\n",
    "print(\"Flattened input: \", output)\n",
    "print(\"Output shape: \", output.shape)\n",
    "\n",
    "backward_delta_output = flatten_module.backward_delta(X, delta)\n",
    "print(\"\\nDelta backward pass: \", backward_delta_output)\n",
    "print(\"Delta original shape: \", delta.shape)\n",
    "print(\"Output delta shape: \", backward_delta_output.shape)"
   ]
  },
  {
   "cell_type": "code",
   "execution_count": 6,
   "metadata": {},
   "outputs": [
    {
     "name": "stdout",
     "output_type": "stream",
     "text": [
      "Pooled input:  [[[ 3  3  3]\n",
      "  [ 5  5  5]]\n",
      "\n",
      " [[ 8  8  8]\n",
      "  [10 10 10]]\n",
      "\n",
      " [[13 13 13]\n",
      "  [15 15 15]]\n",
      "\n",
      " [[18 18 18]\n",
      "  [20 20 20]]]\n",
      "Output shape:  (4, 2, 3)\n",
      "\n",
      "Delta backward pass:  [[[ 0  0  0]\n",
      "  [ 0  0  0]\n",
      "  [ 7  8  9]\n",
      "  [ 0  0  0]\n",
      "  [ 7  8  9]]\n",
      "\n",
      " [[ 0  0  0]\n",
      "  [ 0  0  0]\n",
      "  [22 23 24]\n",
      "  [ 0  0  0]\n",
      "  [22 23 24]]\n",
      "\n",
      " [[ 0  0  0]\n",
      "  [ 0  0  0]\n",
      "  [37 38 39]\n",
      "  [ 0  0  0]\n",
      "  [37 38 39]]\n",
      "\n",
      " [[ 0  0  0]\n",
      "  [ 0  0  0]\n",
      "  [52 53 54]\n",
      "  [ 0  0  0]\n",
      "  [52 53 54]]]\n",
      "Delta original shape:  (4, 5, 3)\n",
      "Output delta shape:  (4, 5, 3)\n"
     ]
    }
   ],
   "source": [
    "X = np.array([\n",
    "    [[1, 1, 1], [2, 2, 2], [3, 3, 3], [4, 4, 4], [5, 5, 5]],\n",
    "    [[6, 6, 6], [7, 7, 7], [8, 8, 8], [9, 9, 9], [10, 10, 10]],\n",
    "    [[11, 11, 11], [12, 12, 12], [13, 13, 13], [14, 14, 14], [15, 15, 15]],\n",
    "    [[16, 16, 16], [17, 17, 17], [18, 18, 18], [19, 19, 19], [20, 20, 20]],\n",
    "])\n",
    "\n",
    "pool_module = MaxPool1D(3, 2)\n",
    "output = pool_module.forward(X)\n",
    "print(\"Pooled input: \", output)\n",
    "print(\"Output shape: \", output.shape)\n",
    "\n",
    "delta = np.array([\n",
    "    [[1, 2, 3], [4, 5, 6], [7, 8, 9], [10, 11, 12], [13, 14, 15]],\n",
    "    [[16, 17, 18], [19, 20, 21], [22, 23, 24], [25, 26, 27], [28, 29, 30]],\n",
    "    [[31, 32, 33], [34, 35, 36], [37, 38, 39], [40, 41, 42], [43, 44, 45]],\n",
    "    [[46, 47, 48], [49, 50, 51], [52, 53, 54], [55, 56, 57], [58, 59, 60]]\n",
    "])\n",
    "backward_delta_output = pool_module.backward_delta(X, delta)\n",
    "print(\"\\nDelta backward pass: \", backward_delta_output)\n",
    "print(\"Delta original shape: \", delta.shape)\n",
    "print(\"Output delta shape: \", backward_delta_output.shape)"
   ]
  },
  {
   "cell_type": "markdown",
   "metadata": {},
   "source": [
    "## Dataset and Network"
   ]
  },
  {
   "cell_type": "code",
   "execution_count": 5,
   "metadata": {},
   "outputs": [],
   "source": [
    "np.random.seed(0)"
   ]
  },
  {
   "cell_type": "code",
   "execution_count": 6,
   "metadata": {},
   "outputs": [
    {
     "name": "stdout",
     "output_type": "stream",
     "text": [
      "(7291, 256) (7291,)\n",
      "(2007, 256) (2007,)\n",
      "(7291, 10)\n",
      "(7291, 256, 1)\n"
     ]
    }
   ],
   "source": [
    "# X, y = load_usps(\"../data/USPS_data.txt\")\n",
    "# y = y.reshape(-1, 1)\n",
    "\n",
    "X_train, y_train = load_usps(\"../data/USPS_train.txt\")\n",
    "X_test, y_test = load_usps(\"../data/USPS_test.txt\")\n",
    "\n",
    "print(X_train.shape, y_train.shape)\n",
    "print(X_test.shape, y_test.shape)\n",
    "\n",
    "y_train = encode_one_hot(y_train)\n",
    "print(y_train.shape)\n",
    "\n",
    "# Min-Max Scaling\n",
    "x_train_min = X_train.min()\n",
    "x_train_max = X_train.max()\n",
    "X_train = (X_train - x_train_min) / (x_train_max - x_train_min)\n",
    "X_train = X_train[:, :, np.newaxis]\n",
    "\n",
    "x_test_min = X_test.min()\n",
    "x_test_max = X_test.max()\n",
    "X_test = (X_test - x_test_min) / (x_test_max - x_test_min)\n",
    "X_test = X_test[:, :, np.newaxis]\n",
    "\n",
    "print(X_train.shape)\n",
    "\n",
    "#X_train, X_test, y_train, y_test = train_test_split(X, y, test_size=0.2)"
   ]
  },
  {
   "cell_type": "code",
   "execution_count": 7,
   "metadata": {},
   "outputs": [],
   "source": [
    "network = Sequential(Conv1D(3,1,32,1), MaxPool1D(2,2), Flatten(), Linear(4064,100), ReLU(), Linear(100,10))\n",
    "loss = CrossEntropyLoss()"
   ]
  },
  {
   "cell_type": "markdown",
   "metadata": {},
   "source": [
    "## Training the convolutional network"
   ]
  },
  {
   "cell_type": "code",
   "execution_count": 9,
   "metadata": {},
   "outputs": [
    {
     "name": "stderr",
     "output_type": "stream",
     "text": [
      "100%|██████████| 50/50 [02:48<00:00,  3.38s/it]\n"
     ]
    }
   ],
   "source": [
    "losses = SGD(network, loss, X_train, y_train, batch_size=32, gradient_step=1e-4, n_iter=50)"
   ]
  },
  {
   "cell_type": "code",
   "execution_count": 10,
   "metadata": {},
   "outputs": [
    {
     "data": {
      "image/png": "[encoded data removed]",
      "text/plain": [
       "<Figure size 640x480 with 1 Axes>"
      ]
     },
     "metadata": {},
     "output_type": "display_data"
    }
   ],
   "source": [
    "plt.plot(losses)\n",
    "plt.xlabel(\"Iteration\")\n",
    "plt.ylabel(\"Loss\")\n",
    "plt.show()"
   ]
  },
  {
   "cell_type": "code",
   "execution_count": 11,
   "metadata": {},
   "outputs": [
    {
     "name": "stdout",
     "output_type": "stream",
     "text": [
      "Accuracy: 93.12%\n"
     ]
    }
   ],
   "source": [
    "def predict(X):\n",
    "    return network(X).argmax(axis=1)\n",
    "\n",
    "def accuracy(y, yhat):\n",
    "    return (y == yhat).mean()\n",
    "\n",
    "yhat = predict(X_test)\n",
    "print(f\"Accuracy: {accuracy(y_test, yhat)*100:.2f}%\")"
   ]
  },
  {
   "cell_type": "code",
   "execution_count": 14,
   "metadata": {},
   "outputs": [
    {
     "data": {
      "image/png": "[encoded data removed]",
      "text/plain": [
       "<Figure size 2000x800 with 10 Axes>"
      ]
     },
     "metadata": {},
     "output_type": "display_data"
    }
   ],
   "source": [
    "n_images = 10\n",
    "\n",
    "random_indexes = np.random.choice(range(len(y_test)), n_images, replace=False)\n",
    "images = X_test[random_indexes]\n",
    "true_labels = y_test[random_indexes]\n",
    "predicted_labels = yhat[random_indexes]\n",
    "\n",
    "plt.subplots(2, 5, figsize=(20, 8))\n",
    "for i in range(n_images):\n",
    "    plt.subplot(2, 5, i+1)\n",
    "    plt.title(f\"Predicted: {predicted_labels[i]}, Actual: {true_labels[i]}\")\n",
    "    plt.imshow(images[i].reshape(16,16), cmap='gray')"
   ]
  }
 ],
 "metadata": {
  "kernelspec": {
   "display_name": "Python 3",
   "language": "python",
   "name": "python3"
  },
  "language_info": {
   "codemirror_mode": {
    "name": "ipython",
    "version": 3
   },
   "file_extension": ".py",
   "mimetype": "text/x-python",
   "name": "python",
   "nbconvert_exporter": "python",
   "pygments_lexer": "ipython3",
   "version": "3.11.5"
  }
 },
 "nbformat": 4,
 "nbformat_minor": 2
}
