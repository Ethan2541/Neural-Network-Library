{
 "cells": [
  {
   "cell_type": "markdown",
   "metadata": {},
   "source": [
    "# Convolutional Network"
   ]
  },
  {
   "cell_type": "code",
   "execution_count": 1,
   "metadata": {},
   "outputs": [],
   "source": [
    "import os\n",
    "import sys\n",
    "\n",
    "sys.path.append(os.path.join(os.getcwd(), \"..\"))"
   ]
  },
  {
   "cell_type": "code",
   "execution_count": 2,
   "metadata": {},
   "outputs": [],
   "source": [
    "from pyldl.activations import ReLU\n",
    "from pyldl.encapsulations import Sequential\n",
    "from pyldl.losses import CrossEntropyLoss\n",
    "from pyldl.modules import Conv1D, Flatten, Linear, MaxPool1D\n",
    "from pyldl.optimizers import SGD\n",
    "from pyldl.utils import load_usps"
   ]
  },
  {
   "cell_type": "code",
   "execution_count": 3,
   "metadata": {},
   "outputs": [],
   "source": [
    "from sklearn.model_selection import train_test_split\n",
    "\n",
    "import matplotlib.pyplot as plt\n",
    "import numpy as np"
   ]
  },
  {
   "cell_type": "markdown",
   "metadata": {},
   "source": [
    "## Convolutional Modules"
   ]
  },
  {
   "cell_type": "code",
   "execution_count": 5,
   "metadata": {},
   "outputs": [
    {
     "name": "stdout",
     "output_type": "stream",
     "text": [
      "Convolution:  [[[ -3.13119185   0.13412703]\n",
      "  [ -5.44074769   1.19855811]]\n",
      "\n",
      " [[ -8.90508145   2.79520473]\n",
      "  [-11.21463729   3.85963581]]\n",
      "\n",
      " [[-14.67897105   5.45628243]\n",
      "  [-16.98852689   6.52071351]]\n",
      "\n",
      " [[-20.45286065   8.11736013]\n",
      "  [-22.76241649   9.18179121]]]\n",
      "Output shape:  (4, 2, 2)\n",
      "\n",
      "Delta backward pass:  [[[ 3  0  0]\n",
      "  [-1  0 -3]\n",
      "  [ 3  2 -3]\n",
      "  [-1  0 -3]\n",
      "  [ 0  2 -3]]\n",
      "\n",
      " [[ 3  0  0]\n",
      "  [-1  0 -3]\n",
      "  [ 3  2 -3]\n",
      "  [-1  0 -3]\n",
      "  [ 0  2 -3]]\n",
      "\n",
      " [[ 3  0  0]\n",
      "  [-1  0 -3]\n",
      "  [ 3  2 -3]\n",
      "  [-1  0 -3]\n",
      "  [ 0  2 -3]]\n",
      "\n",
      " [[ 3  0  0]\n",
      "  [-1  0 -3]\n",
      "  [ 3  2 -3]\n",
      "  [-1  0 -3]\n",
      "  [ 0  2 -3]]]\n",
      "Delta original shape:  (4, 2, 2)\n",
      "Output delta shape:  (4, 5, 3)\n"
     ]
    }
   ],
   "source": [
    "X = np.array([\n",
    "    [[1, 1, 1], [2, 2, 2], [3, 3, 3], [4, 4, 4], [5, 5, 5]],\n",
    "    [[6, 6, 6], [7, 7, 7], [8, 8, 8], [9, 9, 9], [10, 10, 10]],\n",
    "    [[11, 11, 11], [12, 12, 12], [13, 13, 13], [14, 14, 14], [15, 15, 15]],\n",
    "    [[16, 16, 16], [17, 17, 17], [18, 18, 18], [19, 19, 19], [20, 20, 20]],\n",
    "])\n",
    "\n",
    "conv_module = Conv1D(3, 3, 2, 2)\n",
    "\n",
    "output = conv_module.forward(X)\n",
    "print(\"Convolution: \", output)\n",
    "print(\"Output shape: \", output.shape)\n",
    "\n",
    "delta = 5*np.ones_like(output)\n",
    "backward_delta_output = conv_module.backward_delta(X, delta)\n",
    "print(\"\\nDelta backward pass: \", backward_delta_output)\n",
    "print(\"Delta original shape: \", delta.shape)\n",
    "print(\"Output delta shape: \", backward_delta_output.shape)"
   ]
  },
  {
   "cell_type": "code",
   "execution_count": 6,
   "metadata": {},
   "outputs": [
    {
     "name": "stdout",
     "output_type": "stream",
     "text": [
      "Flattened input:  [[ 1  2  3  4  5  6  7  8  9 10 11 12]\n",
      " [ 1  2  3  4  5  6  7  8  9 10 11 12]\n",
      " [ 1  2  3  4  5  6  7  8  9 10 11 12]]\n",
      "Output shape:  (3, 12)\n",
      "\n",
      "Delta backward pass:  [[[[1 1]\n",
      "   [1 1]]\n",
      "\n",
      "  [[1 1]\n",
      "   [1 1]]\n",
      "\n",
      "  [[1 1]\n",
      "   [1 1]]]\n",
      "\n",
      "\n",
      " [[[1 1]\n",
      "   [1 1]]\n",
      "\n",
      "  [[1 1]\n",
      "   [1 1]]\n",
      "\n",
      "  [[1 1]\n",
      "   [1 1]]]\n",
      "\n",
      "\n",
      " [[[1 1]\n",
      "   [1 1]]\n",
      "\n",
      "  [[1 1]\n",
      "   [1 1]]\n",
      "\n",
      "  [[1 1]\n",
      "   [1 1]]]]\n",
      "Delta original shape:  (3, 3, 2, 2)\n",
      "Output delta shape:  (3, 3, 2, 2)\n"
     ]
    }
   ],
   "source": [
    "X = np.array([\n",
    "    [\n",
    "        [[1, 2], [3, 4]],\n",
    "        [[5, 6], [7, 8]],\n",
    "        [[9, 10], [11, 12]],\n",
    "    ],\n",
    "    [\n",
    "        [[1, 2], [3, 4]],\n",
    "        [[5, 6], [7, 8]],\n",
    "        [[9, 10], [11, 12]],\n",
    "    ],\n",
    "    [\n",
    "        [[1, 2], [3, 4]],\n",
    "        [[5, 6], [7, 8]],\n",
    "        [[9, 10], [11, 12]],\n",
    "    ]\n",
    "])\n",
    "\n",
    "delta = np.ones_like(X)\n",
    "\n",
    "flatten_module = Flatten()\n",
    "output = flatten_module.forward(X)\n",
    "print(\"Flattened input: \", output)\n",
    "print(\"Output shape: \", output.shape)\n",
    "\n",
    "backward_delta_output = flatten_module.backward_delta(X, delta)\n",
    "print(\"\\nDelta backward pass: \", backward_delta_output)\n",
    "print(\"Delta original shape: \", delta.shape)\n",
    "print(\"Output delta shape: \", backward_delta_output.shape)"
   ]
  },
  {
   "cell_type": "code",
   "execution_count": 7,
   "metadata": {},
   "outputs": [
    {
     "name": "stdout",
     "output_type": "stream",
     "text": [
      "Pooled input:  [[[ 3  3  3]\n",
      "  [ 5  5  5]]\n",
      "\n",
      " [[ 8  8  8]\n",
      "  [10 10 10]]\n",
      "\n",
      " [[13 13 13]\n",
      "  [15 15 15]]\n",
      "\n",
      " [[18 18 18]\n",
      "  [20 20 20]]]\n",
      "Output shape:  (4, 2, 3)\n",
      "\n",
      "Delta backward pass:  [[[ 0  0  0]\n",
      "  [ 0  0  0]\n",
      "  [ 7  8  9]\n",
      "  [ 0  0  0]\n",
      "  [ 7  8  9]]\n",
      "\n",
      " [[ 0  0  0]\n",
      "  [ 0  0  0]\n",
      "  [22 23 24]\n",
      "  [ 0  0  0]\n",
      "  [22 23 24]]\n",
      "\n",
      " [[ 0  0  0]\n",
      "  [ 0  0  0]\n",
      "  [37 38 39]\n",
      "  [ 0  0  0]\n",
      "  [37 38 39]]\n",
      "\n",
      " [[ 0  0  0]\n",
      "  [ 0  0  0]\n",
      "  [52 53 54]\n",
      "  [ 0  0  0]\n",
      "  [52 53 54]]]\n",
      "Delta original shape:  (4, 5, 3)\n",
      "Output delta shape:  (4, 5, 3)\n"
     ]
    }
   ],
   "source": [
    "X = np.array([\n",
    "    [[1, 1, 1], [2, 2, 2], [3, 3, 3], [4, 4, 4], [5, 5, 5]],\n",
    "    [[6, 6, 6], [7, 7, 7], [8, 8, 8], [9, 9, 9], [10, 10, 10]],\n",
    "    [[11, 11, 11], [12, 12, 12], [13, 13, 13], [14, 14, 14], [15, 15, 15]],\n",
    "    [[16, 16, 16], [17, 17, 17], [18, 18, 18], [19, 19, 19], [20, 20, 20]],\n",
    "])\n",
    "\n",
    "pool_module = MaxPool1D(3, 2)\n",
    "output = pool_module.forward(X)\n",
    "print(\"Pooled input: \", output)\n",
    "print(\"Output shape: \", output.shape)\n",
    "\n",
    "delta = np.array([\n",
    "    [[1, 2, 3], [4, 5, 6], [7, 8, 9], [10, 11, 12], [13, 14, 15]],\n",
    "    [[16, 17, 18], [19, 20, 21], [22, 23, 24], [25, 26, 27], [28, 29, 30]],\n",
    "    [[31, 32, 33], [34, 35, 36], [37, 38, 39], [40, 41, 42], [43, 44, 45]],\n",
    "    [[46, 47, 48], [49, 50, 51], [52, 53, 54], [55, 56, 57], [58, 59, 60]]\n",
    "])\n",
    "backward_delta_output = pool_module.backward_delta(X, delta)\n",
    "print(\"\\nDelta backward pass: \", backward_delta_output)\n",
    "print(\"Delta original shape: \", delta.shape)\n",
    "print(\"Output delta shape: \", backward_delta_output.shape)"
   ]
  },
  {
   "cell_type": "markdown",
   "metadata": {},
   "source": [
    "## Dataset and Network"
   ]
  },
  {
   "cell_type": "code",
   "execution_count": null,
   "metadata": {},
   "outputs": [],
   "source": [
    "np.random.seed(0)"
   ]
  },
  {
   "cell_type": "code",
   "execution_count": 8,
   "metadata": {},
   "outputs": [],
   "source": [
    "X, y = load_usps(\"../data/USPS_data.txt\")\n",
    "y = y.reshape(-1, 1)\n",
    "\n",
    "# Min-Max Scaling\n",
    "x_min = X.min()\n",
    "x_max = X.max()\n",
    "X = (X - x_min) / (x_max - x_min)\n",
    "\n",
    "X_train, X_test, y_train, y_test = train_test_split(X, y, test_size=0.2)"
   ]
  },
  {
   "cell_type": "code",
   "execution_count": 9,
   "metadata": {},
   "outputs": [],
   "source": [
    "network = Sequential(Conv1D(3,1,32,1), MaxPool1D(2,2), Flatten(), Linear(4064,100), ReLU(), Linear(100,10))\n",
    "loss = CrossEntropyLoss()"
   ]
  },
  {
   "cell_type": "markdown",
   "metadata": {},
   "source": [
    "## Training the convolutional network"
   ]
  },
  {
   "cell_type": "code",
   "execution_count": 10,
   "metadata": {},
   "outputs": [
    {
     "name": "stderr",
     "output_type": "stream",
     "text": [
      "  0%|          | 0/1000 [00:00<?, ?it/s]"
     ]
    },
    {
     "name": "stderr",
     "output_type": "stream",
     "text": [
      "  0%|          | 0/1000 [00:00<?, ?it/s]\n"
     ]
    },
    {
     "ename": "ValueError",
     "evalue": "operands could not be broadcast together with shapes (3,1,32) (32,254,32) (3,1,32) ",
     "output_type": "error",
     "traceback": [
      "\u001b[1;31m---------------------------------------------------------------------------\u001b[0m",
      "\u001b[1;31mValueError\u001b[0m                                Traceback (most recent call last)",
      "Cell \u001b[1;32mIn[10], line 1\u001b[0m\n\u001b[1;32m----> 1\u001b[0m losses \u001b[38;5;241m=\u001b[39m \u001b[43mSGD\u001b[49m\u001b[43m(\u001b[49m\u001b[43mnetwork\u001b[49m\u001b[43m,\u001b[49m\u001b[43m \u001b[49m\u001b[43mloss\u001b[49m\u001b[43m,\u001b[49m\u001b[43m \u001b[49m\u001b[43mX_train\u001b[49m\u001b[43m[\u001b[49m\u001b[43m:\u001b[49m\u001b[43m,\u001b[49m\u001b[43m:\u001b[49m\u001b[43m,\u001b[49m\u001b[43mnp\u001b[49m\u001b[38;5;241;43m.\u001b[39;49m\u001b[43mnewaxis\u001b[49m\u001b[43m]\u001b[49m\u001b[43m,\u001b[49m\u001b[43m \u001b[49m\u001b[43my_train\u001b[49m\u001b[43m,\u001b[49m\u001b[43m \u001b[49m\u001b[43mbatch_size\u001b[49m\u001b[38;5;241;43m=\u001b[39;49m\u001b[38;5;241;43m32\u001b[39;49m\u001b[43m,\u001b[49m\u001b[43m \u001b[49m\u001b[43mgradient_step\u001b[49m\u001b[38;5;241;43m=\u001b[39;49m\u001b[38;5;241;43m1e-4\u001b[39;49m\u001b[43m,\u001b[49m\u001b[43m \u001b[49m\u001b[43mn_iter\u001b[49m\u001b[38;5;241;43m=\u001b[39;49m\u001b[38;5;241;43m1000\u001b[39;49m\u001b[43m)\u001b[49m\n",
      "File \u001b[1;32md:\\PyLDL\\experiments\\..\\pyldl\\optimizers.py:31\u001b[0m, in \u001b[0;36mSGD\u001b[1;34m(network, loss, X, y, batch_size, gradient_step, n_iter)\u001b[0m\n\u001b[0;32m     29\u001b[0m batch_losses \u001b[38;5;241m=\u001b[39m []\n\u001b[0;32m     30\u001b[0m \u001b[38;5;28;01mfor\u001b[39;00m (batch_X, batch_Y) \u001b[38;5;129;01min\u001b[39;00m batches:\n\u001b[1;32m---> 31\u001b[0m     loss_value \u001b[38;5;241m=\u001b[39m \u001b[43moptimizer\u001b[49m\u001b[38;5;241;43m.\u001b[39;49m\u001b[43mstep\u001b[49m\u001b[43m(\u001b[49m\u001b[43mbatch_X\u001b[49m\u001b[43m,\u001b[49m\u001b[43m \u001b[49m\u001b[43mbatch_Y\u001b[49m\u001b[43m)\u001b[49m\n\u001b[0;32m     32\u001b[0m     batch_losses\u001b[38;5;241m.\u001b[39mappend(loss_value)\n\u001b[0;32m     33\u001b[0m losses\u001b[38;5;241m.\u001b[39mappend(np\u001b[38;5;241m.\u001b[39mmean(batch_losses))\n",
      "File \u001b[1;32md:\\PyLDL\\experiments\\..\\pyldl\\optimizers.py:19\u001b[0m, in \u001b[0;36mOptim.step\u001b[1;34m(self, batch_x, batch_y)\u001b[0m\n\u001b[0;32m     17\u001b[0m loss_value \u001b[38;5;241m=\u001b[39m \u001b[38;5;28mself\u001b[39m\u001b[38;5;241m.\u001b[39m_loss(batch_y, batch_yhat)\n\u001b[0;32m     18\u001b[0m delta \u001b[38;5;241m=\u001b[39m \u001b[38;5;28mself\u001b[39m\u001b[38;5;241m.\u001b[39m_loss\u001b[38;5;241m.\u001b[39mbackward(batch_y, batch_yhat)\n\u001b[1;32m---> 19\u001b[0m \u001b[38;5;28;43mself\u001b[39;49m\u001b[38;5;241;43m.\u001b[39;49m\u001b[43m_network\u001b[49m\u001b[38;5;241;43m.\u001b[39;49m\u001b[43mbackward\u001b[49m\u001b[43m(\u001b[49m\u001b[43mbatch_x\u001b[49m\u001b[43m,\u001b[49m\u001b[43m \u001b[49m\u001b[43mdelta\u001b[49m\u001b[43m)\u001b[49m\n\u001b[0;32m     20\u001b[0m \u001b[38;5;28mself\u001b[39m\u001b[38;5;241m.\u001b[39m_network\u001b[38;5;241m.\u001b[39mupdate_parameters(\u001b[38;5;28mself\u001b[39m\u001b[38;5;241m.\u001b[39m_gradient_step)\n\u001b[0;32m     21\u001b[0m \u001b[38;5;28;01mreturn\u001b[39;00m loss_value\n",
      "File \u001b[1;32md:\\PyLDL\\experiments\\..\\pyldl\\encapsulations.py:19\u001b[0m, in \u001b[0;36mSequential.backward\u001b[1;34m(self, input, delta)\u001b[0m\n\u001b[0;32m     17\u001b[0m \u001b[38;5;28;01mdef\u001b[39;00m \u001b[38;5;21mbackward\u001b[39m(\u001b[38;5;28mself\u001b[39m, \u001b[38;5;28minput\u001b[39m, delta):\n\u001b[0;32m     18\u001b[0m     \u001b[38;5;28;01mfor\u001b[39;00m i \u001b[38;5;129;01min\u001b[39;00m \u001b[38;5;28mreversed\u001b[39m(\u001b[38;5;28mrange\u001b[39m(\u001b[38;5;28mlen\u001b[39m(\u001b[38;5;28mself\u001b[39m\u001b[38;5;241m.\u001b[39m_modules))):\n\u001b[1;32m---> 19\u001b[0m         \u001b[38;5;28;43mself\u001b[39;49m\u001b[38;5;241;43m.\u001b[39;49m\u001b[43m_modules\u001b[49m\u001b[43m[\u001b[49m\u001b[43mi\u001b[49m\u001b[43m]\u001b[49m\u001b[38;5;241;43m.\u001b[39;49m\u001b[43mbackward_update_gradient\u001b[49m\u001b[43m(\u001b[49m\u001b[38;5;28;43mself\u001b[39;49m\u001b[38;5;241;43m.\u001b[39;49m\u001b[43m_inputs\u001b[49m\u001b[43m[\u001b[49m\u001b[43mi\u001b[49m\u001b[43m]\u001b[49m\u001b[43m,\u001b[49m\u001b[43m \u001b[49m\u001b[43mdelta\u001b[49m\u001b[43m)\u001b[49m\n\u001b[0;32m     20\u001b[0m         delta \u001b[38;5;241m=\u001b[39m \u001b[38;5;28mself\u001b[39m\u001b[38;5;241m.\u001b[39m_modules[i]\u001b[38;5;241m.\u001b[39mbackward_delta(\u001b[38;5;28mself\u001b[39m\u001b[38;5;241m.\u001b[39m_inputs[i], delta)\n\u001b[0;32m     21\u001b[0m     \u001b[38;5;28;01mreturn\u001b[39;00m delta\n",
      "File \u001b[1;32md:\\PyLDL\\experiments\\..\\pyldl\\modules.py:66\u001b[0m, in \u001b[0;36mConv1D.backward_update_gradient\u001b[1;34m(self, input, delta)\u001b[0m\n\u001b[0;32m     63\u001b[0m X_view \u001b[38;5;241m=\u001b[39m np\u001b[38;5;241m.\u001b[39mlib\u001b[38;5;241m.\u001b[39mstride_tricks\u001b[38;5;241m.\u001b[39msliding_window_view(\u001b[38;5;28minput\u001b[39m, (\u001b[38;5;241m1\u001b[39m, k_size, chan_in))[:, ::\u001b[38;5;28mself\u001b[39m\u001b[38;5;241m.\u001b[39m_stride, :]\n\u001b[0;32m     64\u001b[0m X_view \u001b[38;5;241m=\u001b[39m X_view\u001b[38;5;241m.\u001b[39mreshape(batch_size, d_out, chan_in, k_size)\n\u001b[1;32m---> 66\u001b[0m \u001b[38;5;28mself\u001b[39m\u001b[38;5;241m.\u001b[39m_gradient \u001b[38;5;241m+\u001b[39m\u001b[38;5;241m=\u001b[39m np\u001b[38;5;241m.\u001b[39meinsum(\u001b[38;5;124m\"\u001b[39m\u001b[38;5;124mbdik, kio -> bdo\u001b[39m\u001b[38;5;124m\"\u001b[39m, X_view, \u001b[38;5;28mself\u001b[39m\u001b[38;5;241m.\u001b[39m_parameters) \u001b[38;5;241m/\u001b[39m batch_size\n\u001b[0;32m     67\u001b[0m \u001b[38;5;28;01mif\u001b[39;00m \u001b[38;5;28mself\u001b[39m\u001b[38;5;241m.\u001b[39m_bias \u001b[38;5;129;01mis\u001b[39;00m \u001b[38;5;129;01mnot\u001b[39;00m \u001b[38;5;28;01mNone\u001b[39;00m:\n\u001b[0;32m     68\u001b[0m     \u001b[38;5;28mself\u001b[39m\u001b[38;5;241m.\u001b[39m_gradient_bias \u001b[38;5;241m+\u001b[39m\u001b[38;5;241m=\u001b[39m delta\u001b[38;5;241m.\u001b[39msum(axis\u001b[38;5;241m=\u001b[39m(\u001b[38;5;241m0\u001b[39m,\u001b[38;5;241m1\u001b[39m)) \u001b[38;5;241m/\u001b[39m batch_size\n",
      "\u001b[1;31mValueError\u001b[0m: operands could not be broadcast together with shapes (3,1,32) (32,254,32) (3,1,32) "
     ]
    }
   ],
   "source": [
    "losses = SGD(network, loss, X_train[:,:,np.newaxis], y_train, batch_size=32, gradient_step=1e-4, n_iter=1000)"
   ]
  },
  {
   "cell_type": "code",
   "execution_count": null,
   "metadata": {},
   "outputs": [],
   "source": [
    "plt.plot(losses)\n",
    "plt.xlabel(\"Iteration\")\n",
    "plt.ylabel(\"Loss\")\n",
    "plt.show()"
   ]
  }
 ],
 "metadata": {
  "kernelspec": {
   "display_name": "Python 3",
   "language": "python",
   "name": "python3"
  },
  "language_info": {
   "codemirror_mode": {
    "name": "ipython",
    "version": 3
   },
   "file_extension": ".py",
   "mimetype": "text/x-python",
   "name": "python",
   "nbconvert_exporter": "python",
   "pygments_lexer": "ipython3",
   "version": "3.10.11"
  }
 },
 "nbformat": 4,
 "nbformat_minor": 2
}
